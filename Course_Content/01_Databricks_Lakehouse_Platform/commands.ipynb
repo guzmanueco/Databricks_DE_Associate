{
 "cells": [
  {
   "cell_type": "code",
   "execution_count": null,
   "metadata": {},
   "outputs": [],
   "source": [
    "# Show delta versions of a Table\n",
    "%sql\n",
    "DESCRIBE HISTORY table"
   ]
  },
  {
   "cell_type": "code",
   "execution_count": null,
   "metadata": {},
   "outputs": [],
   "source": [
    "# Time Travel by timestamp\n",
    "%sql\n",
    "SELECT * FROM TABLE TIMESTAMP AS OF <timestamp>\n",
    "# Time Travel by version\n",
    "SELECT * FROM TABLE VERSION AS OF <versionNum>"
   ]
  },
  {
   "cell_type": "code",
   "execution_count": null,
   "metadata": {},
   "outputs": [],
   "source": [
    "# Using OPTIMIZE to reduce the number \n",
    "# of files in a table to improve performance\n",
    "# and using ZORDER BY to improve retrieval\n",
    "%sql\n",
    "OPTIMIZE table\n",
    "ZORDER BY id"
   ]
  },
  {
   "cell_type": "code",
   "execution_count": null,
   "metadata": {},
   "outputs": [],
   "source": [
    "# Using VACUUM to clean unused files in a table and improve performance\n",
    "%sql \n",
    "VACUUM table\n",
    "\n",
    "# VACUUM has a default retention period of seven days"
   ]
  },
  {
   "cell_type": "code",
   "execution_count": null,
   "metadata": {},
   "outputs": [],
   "source": [
    "# Allow editing the retention period for VACUUM\n",
    "%sql\n",
    "SET spark.databricks.delta.retentionDurationCheck.enabled = false"
   ]
  },
  {
   "cell_type": "code",
   "execution_count": null,
   "metadata": {},
   "outputs": [],
   "source": [
    "# Using VACUUM to clean unused files in a table and improve performance\n",
    "# with a given retention period\n",
    "%sql \n",
    "VACUUM table RETAIN 5 HOURS\n",
    "\n",
    "# Retain only the data versions in the last 5 hours."
   ]
  },
  {
   "cell_type": "code",
   "execution_count": null,
   "metadata": {},
   "outputs": [],
   "source": [
    "# When we use the DROP command the table and all the versions are erased\n",
    "%sql\n",
    "DROP TABLE table"
   ]
  }
 ],
 "metadata": {
  "language_info": {
   "name": "python"
  },
  "orig_nbformat": 4
 },
 "nbformat": 4,
 "nbformat_minor": 2
}
